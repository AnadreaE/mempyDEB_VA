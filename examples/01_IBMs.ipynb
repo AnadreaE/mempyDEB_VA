{
 "cells": [
  {
   "cell_type": "markdown",
   "metadata": {},
   "source": [
    "# Individual-based simulations\n",
    "\n",
    "Individual-based simulations are provided through the `DEBIBM` submodule. <br>\n",
    "The API is very similar to the `DEBODE` submodule:"
   ]
  },
  {
   "cell_type": "code",
   "execution_count": null,
   "metadata": {
    "vscode": {
     "languageId": "plaintext"
    }
   },
   "outputs": [],
   "source": [
    "import matplotlib.pyplot as plt # basic plotting\n",
    "import seaborn as sns # statistical plotting functions\n",
    "sns.color_palette(\"viridis\", as_cmap=True)\n",
    "import pandas as pd # dataframes like in R\n",
    "from copy import deepcopy\n",
    "\n",
    "from mempyDEB.DEBIBM.simulators import * # functions to run models\n",
    "from mempyDEB.DEBIBM.defaultparams import * # some default parameter configurations"
   ]
  },
  {
   "cell_type": "code",
   "execution_count": null,
   "metadata": {
    "vscode": {
     "languageId": "plaintext"
    }
   },
   "outputs": [],
   "source": [
    "spc['ED50_h'] = 1e10 # turning direct lethal effects off\n",
    "\n",
    "for pmoa in ['G', 'M', 'A', 'R']: # iterate over all pmoas\n",
    "    print(f'Simulating pmoa {pmoa}')\n",
    "    spc['pmoa'] = pmoa # update agent dictionary\n",
    "    simout = run_IBM_constantexposures(glb, spc, [0, 0.1, 0.2, 0.5, 1.0]) # run the simulation\n",
    "    \n",
    "    # plot the results and save to file\n",
    "\n",
    "    fig, ax = plt.subplots(ncols = 3, nrows = 3, figsize = (9,7.5), sharex = True)\n",
    "    ax = np.ravel(ax)\n",
    "    pal = sns.color_palette()[0:5]\n",
    "\n",
    "    sns.lineplot(simout.mout, x = 't_day', y = 'M_tot', hue = 'C_W', ax = ax[0], palette = pal)\n",
    "    sns.lineplot(simout.mout, x = 't_day', y = 'N_tot', hue = 'C_W', ax = ax[1], palette = pal)\n",
    "\n",
    "    # plot averages of state variables which may be affected through different pmoas\n",
    "    sns.lineplot(simout.aout, x = 't_day', y = 'eta_AS', hue = 'C_W', ax = ax[2], palette = pal)\n",
    "    sns.lineplot(simout.aout, x = 't_day', y = 'k_M', hue = 'C_W', ax = ax[3], palette = pal)\n",
    "    sns.lineplot(simout.aout, x = 't_day', y = 'eta_IA', hue = 'C_W', ax = ax[4], palette = pal)\n",
    "    sns.lineplot(simout.aout, x = 't_day', y = 'eta_AR', hue = 'C_W', ax = ax[5], palette = pal)\n",
    "\n",
    "    sns.lineplot(simout.mout, x = 't_day', y = 'aging_mortality', hue = 'C_W', ax = ax[6], palette = pal)\n",
    "    sns.lineplot(simout.mout, x = 't_day', y = 'starvation_mortality', hue = 'C_W', ax = ax[7], palette = pal)\n",
    "    sns.lineplot(simout.mout, x = 't_day', y = 'toxicity_mortality', hue = 'C_W', ax = ax[8], palette = pal)\n",
    "\n",
    "    ax[0].set(xlabel = \"Time (d)\", ylabel = r\"$M\\ (\\mu gC)$\", title = \"Total biomass\", xticks = np.arange(0, glb['tspan'][1], 56))\n",
    "    ax[1].set(xlabel = \"Time (d)\", ylabel = r\"$N\\ (\\#)$\", title = \"Abundance\")\n",
    "    ax[2].set(xlabel = \"Time (d)\", ylabel = r\"$\\eta_{AS}\\ (-)$\", title = \"Growth efficiency\", ylim = (0, 1.01))\n",
    "    ax[3].set(xlabel = \"Time (d)\", ylabel = r\"$k_M\\ (d^{-1})$\", title = \"Maintenance costs\")\n",
    "    ax[4].set(xlabel = \"Time (d)\", ylabel = r\"$\\eta_{IA}\\ (-)$\", title = \"Assimilation efficiency\", ylim = (0, 1.01))\n",
    "    ax[5].set(xlabel = \"Time (d)\", ylabel = r\"$\\eta_{AR}\\ (-)$\", title = \"Reproduction efficiency\", ylim = (0, 1.01))\n",
    "    ax[6].set(xlabel = \"Time (d)\", ylabel = \"Cumulative count\", title = \"Aging mortality\")\n",
    "    ax[7].set(xlabel = \"Time (d)\", ylabel = \"Cumulative count\", title = \"Starvation mortality\")\n",
    "    ax[8].set(xlabel = \"Time (d)\", ylabel = \"Cumulative count\", title = \"Toxicity mortality\")\n",
    "\n",
    "    [plt.gcf().get_axes()[i].legend().remove() for i in range(len(ax[1:]))]\n",
    "    plt.tight_layout()\n",
    "    sns.despine()\n",
    "    plt.savefig(os.path.join(plotsdir, f\"implementation_verification_poptktd_pmoa={spc['pmoa']}\"), dpi = 300)\n"
   ]
  }
 ],
 "metadata": {
  "language_info": {
   "name": "python"
  }
 },
 "nbformat": 4,
 "nbformat_minor": 2
}
