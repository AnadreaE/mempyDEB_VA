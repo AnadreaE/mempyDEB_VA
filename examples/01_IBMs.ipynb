{
 "cells": [
  {
   "cell_type": "markdown",
   "metadata": {},
   "source": [
    "# Individual-based simulations\n",
    "\n",
    "Individual-based simulations are provided through the `DEBIBM` submodule. <br>\n",
    "As shown below, the API is very similar to the `DEBODE` submodule. <br>\n",
    "\n",
    "**Note: The mesa version used by mempyDEB is currently fixed to 2.4.0 due to breaking changes introduced in mesa 3. We will eventually migrate the code to mesa 3, but this is currently not a priority.**"
   ]
  },
  {
   "cell_type": "code",
   "execution_count": 1,
   "metadata": {},
   "outputs": [
    {
     "name": "stderr",
     "output_type": "stream",
     "text": [
      "c:\\Users\\Simon\\anaconda3\\envs\\MEM25\\Lib\\site-packages\\tqdm\\auto.py:21: TqdmWarning: IProgress not found. Please update jupyter and ipywidgets. See https://ipywidgets.readthedocs.io/en/stable/user_install.html\n",
      "  from .autonotebook import tqdm as notebook_tqdm\n"
     ]
    }
   ],
   "source": [
    "import matplotlib.pyplot as plt # basic plotting\n",
    "import seaborn as sns # statistical plotting functions\n",
    "sns.color_palette(\"viridis\", as_cmap=True)\n",
    "import pandas as pd # dataframes like in R\n",
    "from copy import deepcopy\n",
    "\n",
    "from mempyDEB.DEBIBM.simulators import * # functions to run models\n",
    "from mempyDEB.DEBIBM.defaultparams import * # some default parameter configurations"
   ]
  },
  {
   "cell_type": "code",
   "execution_count": 2,
   "metadata": {},
   "outputs": [
    {
     "ename": "NameError",
     "evalue": "name 'mempyDEB' is not defined",
     "output_type": "error",
     "traceback": [
      "\u001b[1;31m---------------------------------------------------------------------------\u001b[0m",
      "\u001b[1;31mNameError\u001b[0m                                 Traceback (most recent call last)",
      "Cell \u001b[1;32mIn[2], line 1\u001b[0m\n\u001b[1;32m----> 1\u001b[0m mempyDEB\u001b[38;5;241m.\u001b[39m__version__\n",
      "\u001b[1;31mNameError\u001b[0m: name 'mempyDEB' is not defined"
     ]
    }
   ],
   "source": [
    "mempyDEB.__version__"
   ]
  },
  {
   "cell_type": "code",
   "execution_count": 3,
   "metadata": {},
   "outputs": [
    {
     "name": "stderr",
     "output_type": "stream",
     "text": [
      "  0%|          | 0/3 [00:00<?, ?it/s]"
     ]
    },
    {
     "name": "stderr",
     "output_type": "stream",
     "text": [
      "\n"
     ]
    },
    {
     "ename": "AttributeError",
     "evalue": "module 'mesa' has no attribute 'time'",
     "output_type": "error",
     "traceback": [
      "\u001b[1;31m---------------------------------------------------------------------------\u001b[0m",
      "\u001b[1;31mAttributeError\u001b[0m                            Traceback (most recent call last)",
      "Cell \u001b[1;32mIn[3], line 2\u001b[0m\n\u001b[0;32m      1\u001b[0m p \u001b[38;5;241m=\u001b[39m deepcopy(defaultparams_DEBIBM)\n\u001b[1;32m----> 2\u001b[0m sim \u001b[38;5;241m=\u001b[39m simulate_DEBIBM(p)\n",
      "File \u001b[1;32mc:\\Users\\Simon\\anaconda3\\envs\\MEM25\\Lib\\site-packages\\mempyDEB\\DEBIBM\\simulators.py:34\u001b[0m, in \u001b[0;36msimulate_DEBIBM\u001b[1;34m(p)\u001b[0m\n\u001b[0;32m     31\u001b[0m aout_tot \u001b[38;5;241m=\u001b[39m pd\u001b[38;5;241m.\u001b[39mDataFrame()\n\u001b[0;32m     33\u001b[0m \u001b[38;5;28;01mfor\u001b[39;00m replicate \u001b[38;5;129;01min\u001b[39;00m tqdm(\u001b[38;5;28mrange\u001b[39m(glb[\u001b[38;5;124m'\u001b[39m\u001b[38;5;124mreplicates\u001b[39m\u001b[38;5;124m'\u001b[39m])): \u001b[38;5;66;03m# for the given number of replicates\u001b[39;00m\n\u001b[1;32m---> 34\u001b[0m         model \u001b[38;5;241m=\u001b[39m IBM(glb, spc) \n\u001b[0;32m     35\u001b[0m         model\u001b[38;5;241m.\u001b[39mC_W \u001b[38;5;241m=\u001b[39m p[\u001b[38;5;124m'\u001b[39m\u001b[38;5;124mC_W\u001b[39m\u001b[38;5;124m'\u001b[39m] \u001b[38;5;66;03m# set the exposure concentration\u001b[39;00m\n\u001b[0;32m     37\u001b[0m         model\u001b[38;5;241m.\u001b[39mdatacollector\u001b[38;5;241m.\u001b[39mcollect(model) \u001b[38;5;66;03m# always record the initial state\u001b[39;00m\n",
      "File \u001b[1;32mc:\\Users\\Simon\\anaconda3\\envs\\MEM25\\Lib\\site-packages\\mempyDEB\\DEBIBM\\model.py:517\u001b[0m, in \u001b[0;36mIBM.__init__\u001b[1;34m(self, glb, spc)\u001b[0m\n\u001b[0;32m    511\u001b[0m \u001b[38;5;250m\u001b[39m\u001b[38;5;124;03m\"\"\"\u001b[39;00m\n\u001b[0;32m    512\u001b[0m \u001b[38;5;124;03mInitialization of the model object.\u001b[39;00m\n\u001b[0;32m    513\u001b[0m \u001b[38;5;124;03m\"\"\"\u001b[39;00m\n\u001b[0;32m    515\u001b[0m \u001b[38;5;28mself\u001b[39m\u001b[38;5;241m.\u001b[39minit_statevars()\n\u001b[1;32m--> 517\u001b[0m \u001b[38;5;28mself\u001b[39m\u001b[38;5;241m.\u001b[39mschedule \u001b[38;5;241m=\u001b[39m mesa\u001b[38;5;241m.\u001b[39mtime\u001b[38;5;241m.\u001b[39mRandomActivation(\u001b[38;5;28mself\u001b[39m)\n\u001b[0;32m    518\u001b[0m \u001b[38;5;28mself\u001b[39m\u001b[38;5;241m.\u001b[39massign_params(glb)\n\u001b[0;32m    520\u001b[0m \u001b[38;5;28;01mif\u001b[39;00m glb[\u001b[38;5;124m'\u001b[39m\u001b[38;5;124mcollect_agent_data\u001b[39m\u001b[38;5;124m'\u001b[39m] \u001b[38;5;241m==\u001b[39m \u001b[38;5;28;01mFalse\u001b[39;00m:\n",
      "\u001b[1;31mAttributeError\u001b[0m: module 'mesa' has no attribute 'time'"
     ]
    }
   ],
   "source": [
    "p = deepcopy(defaultparams_DEBIBM)\n",
    "sim = simulate_DEBIBM(p)"
   ]
  },
  {
   "cell_type": "code",
   "execution_count": null,
   "metadata": {},
   "outputs": [],
   "source": [
    "spc['ED50_h'] = 1e10 # turning direct lethal effects off\n",
    "\n",
    "for pmoa in ['G', 'M', 'A', 'R']: # iterate over all pmoas\n",
    "    print(f'Simulating pmoa {pmoa}')\n",
    "    spc['pmoa'] = pmoa # update agent dictionary\n",
    "    simout = run_IBM_constantexposures(glb, spc, [0, 0.1, 0.2, 0.5, 1.0]) # run the simulation\n",
    "    \n",
    "    # plot the results and save to file\n",
    "\n",
    "    fig, ax = plt.subplots(ncols = 3, nrows = 3, figsize = (9,7.5), sharex = True)\n",
    "    ax = np.ravel(ax)\n",
    "    pal = sns.color_palette()[0:5]\n",
    "\n",
    "    sns.lineplot(simout.mout, x = 't_day', y = 'M_tot', hue = 'C_W', ax = ax[0], palette = pal)\n",
    "    sns.lineplot(simout.mout, x = 't_day', y = 'N_tot', hue = 'C_W', ax = ax[1], palette = pal)\n",
    "\n",
    "    # plot averages of state variables which may be affected through different pmoas\n",
    "    sns.lineplot(simout.aout, x = 't_day', y = 'eta_AS', hue = 'C_W', ax = ax[2], palette = pal)\n",
    "    sns.lineplot(simout.aout, x = 't_day', y = 'k_M', hue = 'C_W', ax = ax[3], palette = pal)\n",
    "    sns.lineplot(simout.aout, x = 't_day', y = 'eta_IA', hue = 'C_W', ax = ax[4], palette = pal)\n",
    "    sns.lineplot(simout.aout, x = 't_day', y = 'eta_AR', hue = 'C_W', ax = ax[5], palette = pal)\n",
    "\n",
    "    sns.lineplot(simout.mout, x = 't_day', y = 'aging_mortality', hue = 'C_W', ax = ax[6], palette = pal)\n",
    "    sns.lineplot(simout.mout, x = 't_day', y = 'starvation_mortality', hue = 'C_W', ax = ax[7], palette = pal)\n",
    "    sns.lineplot(simout.mout, x = 't_day', y = 'toxicity_mortality', hue = 'C_W', ax = ax[8], palette = pal)\n",
    "\n",
    "    ax[0].set(xlabel = \"Time (d)\", ylabel = r\"$M\\ (\\mu gC)$\", title = \"Total biomass\", xticks = np.arange(0, glb['tspan'][1], 56))\n",
    "    ax[1].set(xlabel = \"Time (d)\", ylabel = r\"$N\\ (\\#)$\", title = \"Abundance\")\n",
    "    ax[2].set(xlabel = \"Time (d)\", ylabel = r\"$\\eta_{AS}\\ (-)$\", title = \"Growth efficiency\", ylim = (0, 1.01))\n",
    "    ax[3].set(xlabel = \"Time (d)\", ylabel = r\"$k_M\\ (d^{-1})$\", title = \"Maintenance costs\")\n",
    "    ax[4].set(xlabel = \"Time (d)\", ylabel = r\"$\\eta_{IA}\\ (-)$\", title = \"Assimilation efficiency\", ylim = (0, 1.01))\n",
    "    ax[5].set(xlabel = \"Time (d)\", ylabel = r\"$\\eta_{AR}\\ (-)$\", title = \"Reproduction efficiency\", ylim = (0, 1.01))\n",
    "    ax[6].set(xlabel = \"Time (d)\", ylabel = \"Cumulative count\", title = \"Aging mortality\")\n",
    "    ax[7].set(xlabel = \"Time (d)\", ylabel = \"Cumulative count\", title = \"Starvation mortality\")\n",
    "    ax[8].set(xlabel = \"Time (d)\", ylabel = \"Cumulative count\", title = \"Toxicity mortality\")\n",
    "\n",
    "    [plt.gcf().get_axes()[i].legend().remove() for i in range(len(ax[1:]))]\n",
    "    plt.tight_layout()\n",
    "    sns.despine()\n",
    "    plt.savefig(os.path.join(plotsdir, f\"implementation_verification_poptktd_pmoa={spc['pmoa']}\"), dpi = 300)\n"
   ]
  }
 ],
 "metadata": {
  "kernelspec": {
   "display_name": "MEM25",
   "language": "python",
   "name": "python3"
  },
  "language_info": {
   "codemirror_mode": {
    "name": "ipython",
    "version": 3
   },
   "file_extension": ".py",
   "mimetype": "text/x-python",
   "name": "python",
   "nbconvert_exporter": "python",
   "pygments_lexer": "ipython3",
   "version": "3.12.9"
  }
 },
 "nbformat": 4,
 "nbformat_minor": 2
}
