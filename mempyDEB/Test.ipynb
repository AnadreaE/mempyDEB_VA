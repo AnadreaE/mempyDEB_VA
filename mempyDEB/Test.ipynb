{
 "cells": [
  {
   "cell_type": "markdown",
   "metadata": {},
   "source": [
    "# MEM DEB ALGAE "
   ]
  },
  {
   "cell_type": "code",
   "execution_count": 1,
   "metadata": {},
   "outputs": [],
   "source": [
    "import matplotlib.pyplot as plt # basic plotting\n",
    "import seaborn as sns # statistical plotting functions\n",
    "sns.color_palette(\"viridis\", as_cmap=True)\n",
    "import pandas as pd # dataframes like in R\n",
    "from copy import deepcopy"
   ]
  },
  {
   "cell_type": "code",
<<<<<<< HEAD
   "execution_count": 8,
=======
   "execution_count": 2,
>>>>>>> e3211b3 (no chancges)
   "metadata": {},
   "outputs": [
    {
     "data": {
      "text/plain": [
       "'8.32.0'"
      ]
     },
<<<<<<< HEAD
     "execution_count": 8,
=======
     "execution_count": 2,
>>>>>>> e3211b3 (no chancges)
     "metadata": {},
     "output_type": "execute_result"
    }
   ],
   "source": [
    "import IPython\n",
    "IPython.__version__"
   ]
  },
  {
   "cell_type": "code",
<<<<<<< HEAD
   "execution_count": 9,
   "metadata": {},
   "outputs": [
    {
     "name": "stdout",
     "output_type": "stream",
     "text": [
      "The autoreload extension is already loaded. To reload it, use:\n",
      "  %reload_ext autoreload\n"
     ]
    }
   ],
=======
   "execution_count": 3,
   "metadata": {},
   "outputs": [],
>>>>>>> e3211b3 (no chancges)
   "source": [
    "# automatische aktualisierung externer Python-Dateien\n",
    "%load_ext autoreload\n",
    "%autoreload 2 "
   ]
  },
  {
   "cell_type": "code",
<<<<<<< HEAD
   "execution_count": 13,
=======
   "execution_count": 4,
>>>>>>> e3211b3 (no chancges)
   "metadata": {},
   "outputs": [],
   "source": [
    "from mempyDEB.DEBIBM.simulators import * # functions to run models\n",
<<<<<<< HEAD
    "from mempyDEB.DEBIBM.defaultparams import * # some default parameter configurations\n",
    "from mempyDEB.DEBIBM.model import *"
=======
    "from mempyDEB.DEBIBM.defaultparams import * # some default parameter configurations"
>>>>>>> e3211b3 (no chancges)
   ]
  },
  {
   "cell_type": "code",
<<<<<<< HEAD
   "execution_count": 14,
   "metadata": {},
   "outputs": [],
   "source": [
    "p = deepcopy(defaultparams_DEBIBM) "
   ]
  },
  {
   "cell_type": "code",
   "execution_count": 17,
   "metadata": {},
   "outputs": [
    {
     "name": "stdout",
     "output_type": "stream",
     "text": [
      "0.05\n",
      "0.5\n"
     ]
    }
   ],
   "source": [
    "algae_intance_test = Algae(p.glb, p.alg)\n",
    "print(algae_intance_test.m_max)  # Should output: 0.1\n",
    "print(algae_intance_test.D)       # Should output: 0.05\n"
=======
   "execution_count": 5,
   "metadata": {},
   "outputs": [
    {
     "data": {
      "text/plain": [
       "{'cv': 0.1,\n",
       " 'Idot_max_rel_mean': 5,\n",
       " 'eta_IA_0': 0.5,\n",
       " 'K_X': 500.0,\n",
       " 'kappa': 0.9,\n",
       " 'eta_AS_0': 0.9,\n",
       " 'eta_SA': 0.9,\n",
       " 'eta_AR_0': 0.95,\n",
       " 'k_M_0': 0.55,\n",
       " 'S_p_mean': 9,\n",
       " 'X_emb_int_mean': 0.675,\n",
       " 'tau_R': 2.5,\n",
       " 'S_rel_crit': 0.5,\n",
       " 'h_starve': 0.29,\n",
       " 'a_max_mean': 60,\n",
       " 'a_max_cv': 0.1,\n",
       " 'kD_j': 0.5,\n",
       " 'ED50_j': 1.0,\n",
       " 'beta_j': 1.0,\n",
       " 'pmoa': 'R',\n",
       " 'kD_h': 0.5,\n",
       " 'ED50_h': 150,\n",
       " 'beta_h': 1.0,\n",
       " 'q_min': 0.0011,\n",
       " 'q_max': 0.0144,\n",
       " 'D': 0.5,\n",
       " 'T_min': 0,\n",
       " 'T_max': 35,\n",
       " 'T_opt': 27,\n",
       " 'I_opt': 120}"
      ]
     },
     "execution_count": 5,
     "metadata": {},
     "output_type": "execute_result"
    }
   ],
   "source": [
    "defaultparams_DEBIBM.spc"
>>>>>>> e3211b3 (no chancges)
   ]
  }
 ],
 "metadata": {
  "kernelspec": {
   "display_name": "mempydebalgae",
   "language": "python",
   "name": "python3"
  },
  "language_info": {
   "codemirror_mode": {
    "name": "ipython",
    "version": 3
   },
   "file_extension": ".py",
   "mimetype": "text/x-python",
   "name": "python",
   "nbconvert_exporter": "python",
   "pygments_lexer": "ipython3",
   "version": "3.11.11"
  }
 },
 "nbformat": 4,
 "nbformat_minor": 2
}
