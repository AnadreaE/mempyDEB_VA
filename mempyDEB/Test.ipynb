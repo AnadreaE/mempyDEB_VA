{
 "cells": [
  {
   "cell_type": "markdown",
   "metadata": {},
   "source": [
    "# MEM DEB ALGAE "
   ]
  },
  {
   "cell_type": "code",
   "execution_count": 1,
   "metadata": {},
   "outputs": [],
   "source": [
    "import matplotlib.pyplot as plt # basic plotting\n",
    "import seaborn as sns # statistical plotting functions\n",
    "sns.color_palette(\"viridis\", as_cmap=True)\n",
    "import pandas as pd # dataframes like in R\n",
    "from copy import deepcopy"
   ]
  },
  {
   "cell_type": "code",
   "execution_count": 8,
   "metadata": {},
   "outputs": [
    {
     "data": {
      "text/plain": [
       "'8.32.0'"
      ]
     },
     "execution_count": 8,
     "metadata": {},
     "output_type": "execute_result"
    }
   ],
   "source": [
    "import IPython\n",
    "IPython.__version__"
   ]
  },
  {
   "cell_type": "code",
   "execution_count": 9,
   "metadata": {},
   "outputs": [
    {
     "name": "stdout",
     "output_type": "stream",
     "text": [
      "The autoreload extension is already loaded. To reload it, use:\n",
      "  %reload_ext autoreload\n"
     ]
    }
   ],
   "source": [
    "# automatische aktualisierung externer Python-Dateien\n",
    "%load_ext autoreload\n",
    "%autoreload 2 "
   ]
  },
  {
   "cell_type": "code",
   "execution_count": 13,
   "metadata": {},
   "outputs": [],
   "source": [
    "from mempyDEB.DEBIBM.simulators import * # functions to run models\n",
    "from mempyDEB.DEBIBM.defaultparams import * # some default parameter configurations\n",
    "from mempyDEB.DEBIBM.model import *"
   ]
  },
  {
   "cell_type": "code",
   "execution_count": 14,
   "metadata": {},
   "outputs": [],
   "source": [
    "p = deepcopy(defaultparams_DEBIBM) "
   ]
  },
  {
   "cell_type": "code",
   "execution_count": 17,
   "metadata": {},
   "outputs": [
    {
     "name": "stdout",
     "output_type": "stream",
     "text": [
      "0.05\n",
      "0.5\n"
     ]
    }
   ],
   "source": [
    "algae_intance_test = Algae(p.glb, p.alg)\n",
    "print(algae_intance_test.m_max)  # Should output: 0.1\n",
    "print(algae_intance_test.D)       # Should output: 0.05\n"
   ]
  }
 ],
 "metadata": {
  "kernelspec": {
   "display_name": "mempydebalgae",
   "language": "python",
   "name": "python3"
  },
  "language_info": {
   "codemirror_mode": {
    "name": "ipython",
    "version": 3
   },
   "file_extension": ".py",
   "mimetype": "text/x-python",
   "name": "python",
   "nbconvert_exporter": "python",
   "pygments_lexer": "ipython3",
   "version": "3.11.11"
  }
 },
 "nbformat": 4,
 "nbformat_minor": 2
}
