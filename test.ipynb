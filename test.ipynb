{
 "cells": [
  {
   "cell_type": "code",
   "execution_count": 1,
   "metadata": {},
   "outputs": [],
   "source": [
    "from mempyDEB.DEBIBM.defaultparams import *\n",
    "from mempyDEB.DEBIBM.simulators import *"
   ]
  },
  {
   "cell_type": "code",
   "execution_count": 2,
   "metadata": {},
   "outputs": [],
   "source": [
    "p = defaultparams_DEBIBM"
   ]
  },
  {
   "cell_type": "code",
   "execution_count": null,
   "metadata": {},
   "outputs": [
    {
     "name": "stderr",
     "output_type": "stream",
     "text": [
      "  0%|          | 0/3 [00:00<?, ?it/s]"
     ]
    },
    {
     "name": "stderr",
     "output_type": "stream",
     "text": [
      "C:\\Users\\Simon\\AppData\\Roaming\\Python\\Python312\\site-packages\\mesa\\agent.py:52: FutureWarning: The Mesa Model class was not initialized. In the future, you need to explicitly initialize the Model by calling super().__init__() on initialization.\n",
      "  self.model.register_agent(self)\n",
      " 33%|███▎      | 1/3 [00:37<01:15, 37.64s/it]C:\\Users\\Simon\\AppData\\Roaming\\Python\\Python312\\site-packages\\mesa\\agent.py:52: FutureWarning: The Mesa Model class was not initialized. In the future, you need to explicitly initialize the Model by calling super().__init__() on initialization.\n",
      "  self.model.register_agent(self)\n",
      " 67%|██████▋   | 2/3 [01:16<00:38, 38.21s/it]C:\\Users\\Simon\\AppData\\Roaming\\Python\\Python312\\site-packages\\mesa\\agent.py:52: FutureWarning: The Mesa Model class was not initialized. In the future, you need to explicitly initialize the Model by calling super().__init__() on initialization.\n",
      "  self.model.register_agent(self)\n",
      "100%|██████████| 3/3 [01:44<00:00, 34.80s/it]\n"
     ]
    }
   ],
   "source": [
    "\n",
    "p.glb['tspan'] = (0,56)\n",
    "sim = simulate_DEBIBM(p)"
   ]
  },
  {
   "cell_type": "code",
   "execution_count": 3,
   "metadata": {},
   "outputs": [
    {
     "data": {
      "text/plain": [
       "<Axes: xlabel='t_day', ylabel='N_tot'>"
      ]
     },
     "execution_count": 3,
     "metadata": {},
     "output_type": "execute_result"
    },
    {
     "data": {
      "image/png": "[encoded data removed]",
      "text/plain": [
       "<Figure size 640x480 with 1 Axes>"
      ]
     },
     "metadata": {},
     "output_type": "display_data"
    }
   ],
   "source": [
    "sns.lineplot(sim.mout, x = 't_day', y = 'N_tot')"
   ]
  },
  {
   "cell_type": "code",
   "execution_count": null,
   "metadata": {},
   "outputs": [],
   "source": [
    "import warnings\n",
    "warnings.filterwarnings(\"ignore\", category=DeprecationWarning) "
   ]
  },
  {
   "cell_type": "code",
   "execution_count": null,
   "metadata": {},
   "outputs": [
    {
     "name": "stdout",
     "output_type": "stream",
     "text": [
      "Simulating pmoa G\n"
     ]
    },
    {
     "name": "stderr",
     "output_type": "stream",
     "text": [
      "  0%|          | 0/3 [00:00<?, ?it/s]C:\\Users\\Simon\\AppData\\Roaming\\Python\\Python312\\site-packages\\mesa\\agent.py:52: FutureWarning: The Mesa Model class was not initialized. In the future, you need to explicitly initialize the Model by calling super().__init__() on initialization.\n",
      "  self.model.register_agent(self)\n",
      " 33%|███▎      | 1/3 [00:11<00:22, 11.36s/it]C:\\Users\\Simon\\AppData\\Roaming\\Python\\Python312\\site-packages\\mesa\\agent.py:52: FutureWarning: The Mesa Model class was not initialized. In the future, you need to explicitly initialize the Model by calling super().__init__() on initialization.\n",
      "  self.model.register_agent(self)\n",
      " 67%|██████▋   | 2/3 [00:20<00:09,  9.79s/it]C:\\Users\\Simon\\AppData\\Roaming\\Python\\Python312\\site-packages\\mesa\\agent.py:52: FutureWarning: The Mesa Model class was not initialized. In the future, you need to explicitly initialize the Model by calling super().__init__() on initialization.\n",
      "  self.model.register_agent(self)\n",
      "100%|██████████| 3/3 [00:29<00:00,  9.89s/it]\n",
      "  0%|          | 0/3 [00:00<?, ?it/s]C:\\Users\\Simon\\AppData\\Roaming\\Python\\Python312\\site-packages\\mesa\\agent.py:52: FutureWarning: The Mesa Model class was not initialized. In the future, you need to explicitly initialize the Model by calling super().__init__() on initialization.\n",
      "  self.model.register_agent(self)\n",
      " 33%|███▎      | 1/3 [00:07<00:15,  7.58s/it]C:\\Users\\Simon\\AppData\\Roaming\\Python\\Python312\\site-packages\\mesa\\agent.py:52: FutureWarning: The Mesa Model class was not initialized. In the future, you need to explicitly initialize the Model by calling super().__init__() on initialization.\n",
      "  self.model.register_agent(self)\n",
      " 67%|██████▋   | 2/3 [00:15<00:08,  8.06s/it]C:\\Users\\Simon\\AppData\\Roaming\\Python\\Python312\\site-packages\\mesa\\agent.py:52: FutureWarning: The Mesa Model class was not initialized. In the future, you need to explicitly initialize the Model by calling super().__init__() on initialization.\n",
      "  self.model.register_agent(self)\n",
      "100%|██████████| 3/3 [00:23<00:00,  7.77s/it]\n",
      "  0%|          | 0/3 [00:00<?, ?it/s]C:\\Users\\Simon\\AppData\\Roaming\\Python\\Python312\\site-packages\\mesa\\agent.py:52: FutureWarning: The Mesa Model class was not initialized. In the future, you need to explicitly initialize the Model by calling super().__init__() on initialization.\n",
      "  self.model.register_agent(self)\n",
      " 33%|███▎      | 1/3 [00:09<00:19,  9.67s/it]C:\\Users\\Simon\\AppData\\Roaming\\Python\\Python312\\site-packages\\mesa\\agent.py:52: FutureWarning: The Mesa Model class was not initialized. In the future, you need to explicitly initialize the Model by calling super().__init__() on initialization.\n",
      "  self.model.register_agent(self)\n",
      " 67%|██████▋   | 2/3 [00:19<00:09,  9.69s/it]C:\\Users\\Simon\\AppData\\Roaming\\Python\\Python312\\site-packages\\mesa\\agent.py:52: FutureWarning: The Mesa Model class was not initialized. In the future, you need to explicitly initialize the Model by calling super().__init__() on initialization.\n",
      "  self.model.register_agent(self)\n",
      "100%|██████████| 3/3 [00:26<00:00,  8.89s/it]\n",
      "  0%|          | 0/3 [00:00<?, ?it/s]C:\\Users\\Simon\\AppData\\Roaming\\Python\\Python312\\site-packages\\mesa\\agent.py:52: FutureWarning: The Mesa Model class was not initialized. In the future, you need to explicitly initialize the Model by calling super().__init__() on initialization.\n",
      "  self.model.register_agent(self)\n",
      " 33%|███▎      | 1/3 [00:05<00:11,  5.67s/it]C:\\Users\\Simon\\AppData\\Roaming\\Python\\Python312\\site-packages\\mesa\\agent.py:52: FutureWarning: The Mesa Model class was not initialized. In the future, you need to explicitly initialize the Model by calling super().__init__() on initialization.\n",
      "  self.model.register_agent(self)\n",
      " 67%|██████▋   | 2/3 [00:11<00:05,  5.68s/it]C:\\Users\\Simon\\AppData\\Roaming\\Python\\Python312\\site-packages\\mesa\\agent.py:52: FutureWarning: The Mesa Model class was not initialized. In the future, you need to explicitly initialize the Model by calling super().__init__() on initialization.\n",
      "  self.model.register_agent(self)\n",
      "100%|██████████| 3/3 [00:16<00:00,  5.63s/it]\n",
      "  0%|          | 0/3 [00:00<?, ?it/s]C:\\Users\\Simon\\AppData\\Roaming\\Python\\Python312\\site-packages\\mesa\\agent.py:52: FutureWarning: The Mesa Model class was not initialized. In the future, you need to explicitly initialize the Model by calling super().__init__() on initialization.\n",
      "  self.model.register_agent(self)\n",
      " 33%|███▎      | 1/3 [00:04<00:09,  4.86s/it]C:\\Users\\Simon\\AppData\\Roaming\\Python\\Python312\\site-packages\\mesa\\agent.py:52: FutureWarning: The Mesa Model class was not initialized. In the future, you need to explicitly initialize the Model by calling super().__init__() on initialization.\n",
      "  self.model.register_agent(self)\n",
      " 67%|██████▋   | 2/3 [00:10<00:05,  5.15s/it]C:\\Users\\Simon\\AppData\\Roaming\\Python\\Python312\\site-packages\\mesa\\agent.py:52: FutureWarning: The Mesa Model class was not initialized. In the future, you need to explicitly initialize the Model by calling super().__init__() on initialization.\n",
      "  self.model.register_agent(self)\n",
      "100%|██████████| 3/3 [00:15<00:00,  5.13s/it]\n"
     ]
    },
    {
     "name": "stdout",
     "output_type": "stream",
     "text": [
      "Simulating pmoa M\n"
     ]
    },
    {
     "name": "stderr",
     "output_type": "stream",
     "text": [
      "  0%|          | 0/3 [00:00<?, ?it/s]C:\\Users\\Simon\\AppData\\Roaming\\Python\\Python312\\site-packages\\mesa\\agent.py:52: FutureWarning: The Mesa Model class was not initialized. In the future, you need to explicitly initialize the Model by calling super().__init__() on initialization.\n",
      "  self.model.register_agent(self)\n",
      " 33%|███▎      | 1/3 [00:07<00:15,  7.58s/it]C:\\Users\\Simon\\AppData\\Roaming\\Python\\Python312\\site-packages\\mesa\\agent.py:52: FutureWarning: The Mesa Model class was not initialized. In the future, you need to explicitly initialize the Model by calling super().__init__() on initialization.\n",
      "  self.model.register_agent(self)\n",
      " 67%|██████▋   | 2/3 [00:15<00:07,  7.52s/it]C:\\Users\\Simon\\AppData\\Roaming\\Python\\Python312\\site-packages\\mesa\\agent.py:52: FutureWarning: The Mesa Model class was not initialized. In the future, you need to explicitly initialize the Model by calling super().__init__() on initialization.\n",
      "  self.model.register_agent(self)\n",
      "100%|██████████| 3/3 [00:23<00:00,  7.71s/it]\n",
      "  0%|          | 0/3 [00:00<?, ?it/s]C:\\Users\\Simon\\AppData\\Roaming\\Python\\Python312\\site-packages\\mesa\\agent.py:52: FutureWarning: The Mesa Model class was not initialized. In the future, you need to explicitly initialize the Model by calling super().__init__() on initialization.\n",
      "  self.model.register_agent(self)\n",
      " 33%|███▎      | 1/3 [00:08<00:17,  8.81s/it]C:\\Users\\Simon\\AppData\\Roaming\\Python\\Python312\\site-packages\\mesa\\agent.py:52: FutureWarning: The Mesa Model class was not initialized. In the future, you need to explicitly initialize the Model by calling super().__init__() on initialization.\n",
      "  self.model.register_agent(self)\n",
      " 67%|██████▋   | 2/3 [00:17<00:08,  8.86s/it]C:\\Users\\Simon\\AppData\\Roaming\\Python\\Python312\\site-packages\\mesa\\agent.py:52: FutureWarning: The Mesa Model class was not initialized. In the future, you need to explicitly initialize the Model by calling super().__init__() on initialization.\n",
      "  self.model.register_agent(self)\n",
      "100%|██████████| 3/3 [00:32<00:00, 10.88s/it]\n",
      "  0%|          | 0/3 [00:00<?, ?it/s]C:\\Users\\Simon\\AppData\\Roaming\\Python\\Python312\\site-packages\\mesa\\agent.py:52: FutureWarning: The Mesa Model class was not initialized. In the future, you need to explicitly initialize the Model by calling super().__init__() on initialization.\n",
      "  self.model.register_agent(self)\n",
      " 33%|███▎      | 1/3 [00:10<00:20, 10.27s/it]C:\\Users\\Simon\\AppData\\Roaming\\Python\\Python312\\site-packages\\mesa\\agent.py:52: FutureWarning: The Mesa Model class was not initialized. In the future, you need to explicitly initialize the Model by calling super().__init__() on initialization.\n",
      "  self.model.register_agent(self)\n",
      " 67%|██████▋   | 2/3 [00:16<00:08,  8.15s/it]C:\\Users\\Simon\\AppData\\Roaming\\Python\\Python312\\site-packages\\mesa\\agent.py:52: FutureWarning: The Mesa Model class was not initialized. In the future, you need to explicitly initialize the Model by calling super().__init__() on initialization.\n",
      "  self.model.register_agent(self)\n",
      "100%|██████████| 3/3 [00:25<00:00,  8.40s/it]\n",
      "  0%|          | 0/3 [00:00<?, ?it/s]C:\\Users\\Simon\\AppData\\Roaming\\Python\\Python312\\site-packages\\mesa\\agent.py:52: FutureWarning: The Mesa Model class was not initialized. In the future, you need to explicitly initialize the Model by calling super().__init__() on initialization.\n",
      "  self.model.register_agent(self)\n",
      " 33%|███▎      | 1/3 [00:05<00:11,  5.91s/it]C:\\Users\\Simon\\AppData\\Roaming\\Python\\Python312\\site-packages\\mesa\\agent.py:52: FutureWarning: The Mesa Model class was not initialized. In the future, you need to explicitly initialize the Model by calling super().__init__() on initialization.\n",
      "  self.model.register_agent(self)\n",
      " 67%|██████▋   | 2/3 [00:11<00:05,  5.66s/it]C:\\Users\\Simon\\AppData\\Roaming\\Python\\Python312\\site-packages\\mesa\\agent.py:52: FutureWarning: The Mesa Model class was not initialized. In the future, you need to explicitly initialize the Model by calling super().__init__() on initialization.\n",
      "  self.model.register_agent(self)\n",
      "100%|██████████| 3/3 [00:17<00:00,  5.74s/it]\n",
      "  0%|          | 0/3 [00:00<?, ?it/s]C:\\Users\\Simon\\AppData\\Roaming\\Python\\Python312\\site-packages\\mesa\\agent.py:52: FutureWarning: The Mesa Model class was not initialized. In the future, you need to explicitly initialize the Model by calling super().__init__() on initialization.\n",
      "  self.model.register_agent(self)\n",
      " 33%|███▎      | 1/3 [00:05<00:10,  5.21s/it]C:\\Users\\Simon\\AppData\\Roaming\\Python\\Python312\\site-packages\\mesa\\agent.py:52: FutureWarning: The Mesa Model class was not initialized. In the future, you need to explicitly initialize the Model by calling super().__init__() on initialization.\n",
      "  self.model.register_agent(self)\n",
      " 67%|██████▋   | 2/3 [00:10<00:05,  5.38s/it]C:\\Users\\Simon\\AppData\\Roaming\\Python\\Python312\\site-packages\\mesa\\agent.py:52: FutureWarning: The Mesa Model class was not initialized. In the future, you need to explicitly initialize the Model by calling super().__init__() on initialization.\n",
      "  self.model.register_agent(self)\n",
      "100%|██████████| 3/3 [00:15<00:00,  5.12s/it]\n"
     ]
    },
    {
     "name": "stdout",
     "output_type": "stream",
     "text": [
      "Simulating pmoa A\n"
     ]
    },
    {
     "name": "stderr",
     "output_type": "stream",
     "text": [
      "  0%|          | 0/3 [00:00<?, ?it/s]C:\\Users\\Simon\\AppData\\Roaming\\Python\\Python312\\site-packages\\mesa\\agent.py:52: FutureWarning: The Mesa Model class was not initialized. In the future, you need to explicitly initialize the Model by calling super().__init__() on initialization.\n",
      "  self.model.register_agent(self)\n",
      " 33%|███▎      | 1/3 [00:10<00:20, 10.21s/it]C:\\Users\\Simon\\AppData\\Roaming\\Python\\Python312\\site-packages\\mesa\\agent.py:52: FutureWarning: The Mesa Model class was not initialized. In the future, you need to explicitly initialize the Model by calling super().__init__() on initialization.\n",
      "  self.model.register_agent(self)\n",
      " 67%|██████▋   | 2/3 [00:19<00:09,  9.81s/it]C:\\Users\\Simon\\AppData\\Roaming\\Python\\Python312\\site-packages\\mesa\\agent.py:52: FutureWarning: The Mesa Model class was not initialized. In the future, you need to explicitly initialize the Model by calling super().__init__() on initialization.\n",
      "  self.model.register_agent(self)\n",
      "100%|██████████| 3/3 [00:28<00:00,  9.40s/it]\n",
      "  0%|          | 0/3 [00:00<?, ?it/s]C:\\Users\\Simon\\AppData\\Roaming\\Python\\Python312\\site-packages\\mesa\\agent.py:52: FutureWarning: The Mesa Model class was not initialized. In the future, you need to explicitly initialize the Model by calling super().__init__() on initialization.\n",
      "  self.model.register_agent(self)\n",
      " 33%|███▎      | 1/3 [00:09<00:19,  9.64s/it]C:\\Users\\Simon\\AppData\\Roaming\\Python\\Python312\\site-packages\\mesa\\agent.py:52: FutureWarning: The Mesa Model class was not initialized. In the future, you need to explicitly initialize the Model by calling super().__init__() on initialization.\n",
      "  self.model.register_agent(self)\n"
     ]
    }
   ],
   "source": [
    "p.glb['tspan'] = (0,21)\n",
    "p.spc['ED50_h'] = 1e10 # turning direct lethal effects off\n",
    "\n",
    "for pmoa in ['G', 'M', 'A', 'R']: # iterate over all pmoas\n",
    "    print(f'Simulating pmoa {pmoa}')\n",
    "    spc['pmoa'] = pmoa # update agent dictionary\n",
    "    simout = exposure_DEBIBM(p, [0, 0.125, 0.5]) # run the simulation\n",
    "    \n",
    "    # plot the results and save to file\n",
    "\n",
    "    fig, ax = plt.subplots(ncols = 3, nrows = 3, figsize = (9,7.5), sharex = True)\n",
    "    ax = np.ravel(ax)\n",
    "    pal = sns.color_palette()[0:5]\n",
    "\n",
    "    sns.lineplot(simout.mout, x = 't_day', y = 'M_tot', hue = 'C_W', ax = ax[0], palette = pal)\n",
    "    sns.lineplot(simout.mout, x = 't_day', y = 'N_tot', hue = 'C_W', ax = ax[1], palette = pal)\n",
    "\n",
    "    # plot averages of state variables which may be affected through different pmoas\n",
    "    sns.lineplot(simout.aout, x = 't_day', y = 'eta_AS', hue = 'C_W', ax = ax[2], palette = pal)\n",
    "    sns.lineplot(simout.aout, x = 't_day', y = 'k_M', hue = 'C_W', ax = ax[3], palette = pal)\n",
    "    sns.lineplot(simout.aout, x = 't_day', y = 'eta_IA', hue = 'C_W', ax = ax[4], palette = pal)\n",
    "    sns.lineplot(simout.aout, x = 't_day', y = 'eta_AR', hue = 'C_W', ax = ax[5], palette = pal)\n",
    "\n",
    "    sns.lineplot(simout.mout, x = 't_day', y = 'aging_mortality', hue = 'C_W', ax = ax[6], palette = pal)\n",
    "    sns.lineplot(simout.mout, x = 't_day', y = 'starvation_mortality', hue = 'C_W', ax = ax[7], palette = pal)\n",
    "    sns.lineplot(simout.mout, x = 't_day', y = 'toxicity_mortality', hue = 'C_W', ax = ax[8], palette = pal)\n",
    "\n",
    "    ax[0].set(xlabel = \"Time (d)\", ylabel = r\"$M\\ (\\mu gC)$\", title = \"Total biomass\", xticks = np.arange(0, glb['tspan'][1], 56))\n",
    "    ax[1].set(xlabel = \"Time (d)\", ylabel = r\"$N\\ (\\#)$\", title = \"Abundance\")\n",
    "    ax[2].set(xlabel = \"Time (d)\", ylabel = r\"$\\eta_{AS}\\ (-)$\", title = \"Growth efficiency\", ylim = (0, 1.01))\n",
    "    ax[3].set(xlabel = \"Time (d)\", ylabel = r\"$k_M\\ (d^{-1})$\", title = \"Maintenance costs\")\n",
    "    ax[4].set(xlabel = \"Time (d)\", ylabel = r\"$\\eta_{IA}\\ (-)$\", title = \"Assimilation efficiency\", ylim = (0, 1.01))\n",
    "    ax[5].set(xlabel = \"Time (d)\", ylabel = r\"$\\eta_{AR}\\ (-)$\", title = \"Reproduction efficiency\", ylim = (0, 1.01))\n",
    "    ax[6].set(xlabel = \"Time (d)\", ylabel = \"Cumulative count\", title = \"Aging mortality\")\n",
    "    ax[7].set(xlabel = \"Time (d)\", ylabel = \"Cumulative count\", title = \"Starvation mortality\")\n",
    "    ax[8].set(xlabel = \"Time (d)\", ylabel = \"Cumulative count\", title = \"Toxicity mortality\")\n",
    "\n",
    "    [plt.gcf().get_axes()[i].legend().remove() for i in range(len(ax[1:]))]\n",
    "    plt.tight_layout()\n",
    "    sns.despine()\n",
    "    #plt.savefig(os.path.join(plotsdir, f\"implementation_verification_poptktd_pmoa={spc['pmoa']}\"), dpi = 300)\n"
   ]
  }
 ],
 "metadata": {
  "kernelspec": {
   "display_name": "MEM25",
   "language": "python",
   "name": "python3"
  },
  "language_info": {
   "codemirror_mode": {
    "name": "ipython",
    "version": 3
   },
   "file_extension": ".py",
   "mimetype": "text/x-python",
   "name": "python",
   "nbconvert_exporter": "python",
   "pygments_lexer": "ipython3",
   "version": "3.12.9"
  }
 },
 "nbformat": 4,
 "nbformat_minor": 2
}
